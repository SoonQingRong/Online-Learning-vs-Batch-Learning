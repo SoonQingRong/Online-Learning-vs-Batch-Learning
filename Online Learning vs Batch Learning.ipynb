{
 "cells": [
  {
   "cell_type": "markdown",
   "metadata": {},
   "source": [
    "# Import libraries"
   ]
  },
  {
   "cell_type": "code",
   "execution_count": null,
   "metadata": {},
   "outputs": [],
   "source": [
    "import numpy as np\n",
    "import random\n",
    "import time\n",
    "import matplotlib.pyplot as plt\n",
    "\n",
    "from sklearn.datasets import load_iris\n",
    "from sklearn.datasets import load_breast_cancer\n",
    "from sklearn.datasets import load_digits\n",
    "\n",
    "from sklearn.linear_model import SGDClassifier\n",
    "from sklearn.linear_model import Perceptron\n",
    "from sklearn.linear_model import PassiveAggressiveClassifier\n",
    "from sklearn.model_selection import KFold\n",
    "from sklearn.base import clone"
   ]
  },
  {
   "cell_type": "markdown",
   "metadata": {},
   "source": [
    "# Load datasets"
   ]
  },
  {
   "cell_type": "code",
   "execution_count": null,
   "metadata": {},
   "outputs": [],
   "source": [
    "X, y = load_iris(return_X_y = True)\n",
    "#X, y = load_breast_cancer(return_X_y = True)\n",
    "#X, y = load_digits(return_X_y = True)"
   ]
  },
  {
   "cell_type": "markdown",
   "metadata": {},
   "source": [
    "# Get labels for dataset"
   ]
  },
  {
   "cell_type": "code",
   "execution_count": null,
   "metadata": {},
   "outputs": [],
   "source": [
    "target_labels = list(np.unique(y))"
   ]
  },
  {
   "cell_type": "markdown",
   "metadata": {},
   "source": [
    "# Initialise Models"
   ]
  },
  {
   "cell_type": "code",
   "execution_count": null,
   "metadata": {},
   "outputs": [],
   "source": [
    "#Classifier 1 (for online training)\n",
    "model1 = SGDClassifier(random_state = 19)\n",
    "#model1 = Perceptron(random_state = 19)\n",
    "#model1 = PassiveAggressiveClassifier(random_state = 19)\n",
    "\n",
    "\n",
    "#Classifier 2 (50% batch and 50% online training)\n",
    "model2 = SGDClassifier(random_state = 19)\n",
    "#model2 = Perceptron(random_state = 19)\n",
    "#model2 = PassiveAggressiveClassifier(random_state = 19)\n",
    "\n",
    "\n",
    "#Classifier 3 (for batch training)\n",
    "clf3 = SGDClassifier(random_state = 19)\n",
    "#clf3 = Perceptron(random_state = 19)\n",
    "#clf3 = PassiveAggressiveClassifier(random_state = 19)"
   ]
  },
  {
   "cell_type": "code",
   "execution_count": null,
   "metadata": {},
   "outputs": [],
   "source": [
    "clf1_accuracy_list = []\n",
    "clf2_accuracy_list = []\n",
    "clf3_accuracy_list = []"
   ]
  },
  {
   "cell_type": "markdown",
   "metadata": {},
   "source": [
    "# Set number of splits (10 for 10-fold Cross Validation)"
   ]
  },
  {
   "cell_type": "code",
   "execution_count": null,
   "metadata": {},
   "outputs": [],
   "source": [
    "number_of_splits = 10\n",
    "kf = KFold(n_splits = number_of_splits, shuffle = True, random_state = 42) #shuffle = True to get random indexes for test sets"
   ]
  },
  {
   "cell_type": "markdown",
   "metadata": {},
   "source": [
    "# 10-fold Cross Validation to get average accuracy of each of the 2 models"
   ]
  },
  {
   "cell_type": "code",
   "execution_count": null,
   "metadata": {},
   "outputs": [],
   "source": [
    "fold_value = 1\n",
    "for train_index, test_index in kf.split(X):\n",
    "    \n",
    "    random.seed(2020)\n",
    "    random.shuffle(train_index) #shuffle train indexes so that training will be less biased\n",
    "    \n",
    "    X_train, X_test = X[train_index], X[test_index]\n",
    "    y_train, y_test = y[train_index], y[test_index]\n",
    "\n",
    "    \n",
    "    ###Full Online Learning\n",
    "    X_train_samples_clf1 = []\n",
    "    for X_train_sample_clf1 in X_train:\n",
    "        X_train_samples_clf1.append(X_train_sample_clf1.reshape(1, -1)) #reshape (n, ) sample to (1, n) array for partial_fit\n",
    "\n",
    "    y_train_samples_clf1 = []\n",
    "    for y_train_sample_clf1 in y_train:\n",
    "        y_train_samples_clf1.append([y_train_sample_clf1]) #convert numerical label to a list containing that 1 label for partial_fit\n",
    "\n",
    "    clf1 = clone(model1) #clone base model so model that is used for partial_fit will reset at every fold\n",
    "    start = time.time()\n",
    "    print(\"\\nOnline Learning started\")\n",
    "    for train_data_index_clf1 in range(len(X_train_samples_clf1)):\n",
    "        clf1.partial_fit(X_train_samples_clf1[train_data_index_clf1], y_train_samples_clf1[train_data_index_clf1], classes = target_labels)\n",
    "    print(\"Online Learning Ended\")\n",
    "    end = time.time()\n",
    "    print(\"Time elapsed:\", end-start, \"seconds\")\n",
    "    ###End of Online Learning\n",
    "    \n",
    "    \n",
    "    \n",
    "    ###50% Batch and 50% Online Learning\n",
    "    X_train_samples_clf2 = []\n",
    "    for X_train_sample_clf2 in X_train[int(len(X_train)/2):]:\n",
    "        X_train_samples_clf2.append(X_train_sample_clf1.reshape(1, -1))\n",
    "\n",
    "    y_train_samples_clf2 = []\n",
    "    for y_train_sample_clf2 in y_train[int(len(y_train)/2):]:\n",
    "        y_train_samples_clf2.append([y_train_sample_clf2])\n",
    "        \n",
    "    clf2 = clone(model2)\n",
    "    start = time.time()\n",
    "    print(\"\\nPartial Online Learning started\")\n",
    "    clf2.partial_fit(X_train[:int(len(X_train)/2)], y_train[:int(len(y_train)/2)], classes = target_labels)\n",
    "    for train_data_index_clf2 in range(len(X_train_samples_clf2)):\n",
    "        clf2.partial_fit(X_train_samples_clf2[train_data_index_clf2], y_train_samples_clf2[train_data_index_clf2], classes = target_labels)\n",
    "    print(\"Partial Online Learning Ended\")\n",
    "    end = time.time()\n",
    "    print(\"Time elapsed:\", end-start, \"seconds\")\n",
    "    ###End of 50% Batch and 50% Online Learning\n",
    "    \n",
    "    \n",
    "    \n",
    "    ###Full Batch Learning\n",
    "    start = time.time()\n",
    "    print(\"\\nBatch Learning Started\")\n",
    "    clf3.fit(X_train, y_train)\n",
    "    print(\"Batch Learning Ended\")\n",
    "    end = time.time()\n",
    "    print(\"Time elapsed:\", end-start, \"seconds\")\n",
    "    ###End of Batch Learning\n",
    "    \n",
    "    \n",
    "    \n",
    "    ###Scoring\n",
    "    print(\"\\nScoring on Online Learning model\")\n",
    "    clf1_accuracy_list.append(clf1.score(X_test, y_test))\n",
    "    \n",
    "    print(\"Scoring on Partial Online Learning model\")\n",
    "    clf2_accuracy_list.append(clf2.score(X_test, y_test))\n",
    "    \n",
    "    print(\"Scoring on Batch Learning model\")\n",
    "    clf3_accuracy_list.append(clf3.score(X_test, y_test))\n",
    "    \n",
    "    print(\"Fold\", fold_value, \"/\", number_of_splits, \"completed\")\n",
    "    fold_value = fold_value + 1\n",
    "\n",
    "print(\"\\nAverage accuracy of Online Learning:\", np.mean(clf1_accuracy_list))\n",
    "print(\"Average accuracy of Partial Online Learning:\", np.mean(clf2_accuracy_list))\n",
    "print(\"Average accuracy of Batch Learning:\", np.mean(clf3_accuracy_list))"
   ]
  },
  {
   "cell_type": "markdown",
   "metadata": {},
   "source": [
    "# Plot graph of accuracy across 10-folds"
   ]
  },
  {
   "cell_type": "code",
   "execution_count": null,
   "metadata": {},
   "outputs": [],
   "source": [
    "plt.plot(range(1, number_of_splits + 1), clf1_accuracy_list, label = \"Full Online Learning Accuracy\");    \n",
    "plt.plot(range(1, number_of_splits + 1), clf2_accuracy_list, label = \"Partial Online Learning Accuracy\");    \n",
    "plt.plot(range(1, number_of_splits + 1), clf3_accuracy_list, label = \"Full Batch Learning Accuracy\");\n",
    "plt.title(\"Accuracy across 10-folds\")\n",
    "plt.ylabel(\"Accuracy\")\n",
    "plt.xlabel(\"Fold Number\")\n",
    "plt.legend(loc = \"best\", fontsize = 7.8)"
   ]
  }
 ],
 "metadata": {
  "kernelspec": {
   "display_name": "Python 3",
   "language": "python",
   "name": "python3"
  },
  "language_info": {
   "codemirror_mode": {
    "name": "ipython",
    "version": 3
   },
   "file_extension": ".py",
   "mimetype": "text/x-python",
   "name": "python",
   "nbconvert_exporter": "python",
   "pygments_lexer": "ipython3",
   "version": "3.7.4"
  },
  "varInspector": {
   "cols": {
    "lenName": 16,
    "lenType": 16,
    "lenVar": 40
   },
   "kernels_config": {
    "python": {
     "delete_cmd_postfix": "",
     "delete_cmd_prefix": "del ",
     "library": "var_list.py",
     "varRefreshCmd": "print(var_dic_list())"
    },
    "r": {
     "delete_cmd_postfix": ") ",
     "delete_cmd_prefix": "rm(",
     "library": "var_list.r",
     "varRefreshCmd": "cat(var_dic_list()) "
    }
   },
   "types_to_exclude": [
    "module",
    "function",
    "builtin_function_or_method",
    "instance",
    "_Feature"
   ],
   "window_display": false
  }
 },
 "nbformat": 4,
 "nbformat_minor": 2
}
